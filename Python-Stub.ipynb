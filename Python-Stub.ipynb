{
  "nbformat": 4,
  "nbformat_minor": 0,
  "metadata": {
    "colab": {
      "name": "Python-Stub.ipynb",
      "version": "0.3.2",
      "provenance": []
    },
    "kernelspec": {
      "name": "python3",
      "display_name": "Python 3"
    }
  },
  "cells": [
    {
      "cell_type": "markdown",
      "metadata": {
        "id": "eBlscpGkElnx",
        "colab_type": "text"
      },
      "source": [
        "## This stub can be used to read a data file in from this repository"
      ]
    },
    {
      "cell_type": "code",
      "metadata": {
        "id": "8nIA9kWiEjlN",
        "colab_type": "code",
        "colab": {}
      },
      "source": [
        "# import(s)\n",
        "from urllib.request import urlopen"
      ],
      "execution_count": 0,
      "outputs": []
    },
    {
      "cell_type": "code",
      "metadata": {
        "id": "iwzMcgB_EsF-",
        "colab_type": "code",
        "colab": {}
      },
      "source": [
        "# substitute in the URL you need to read from\n",
        "url ='https://raw.githubusercontent.com/pbeens/CS-Challenge-Data-Files/master/ECOO/2016/Round%202/DATA10.txt'"
      ],
      "execution_count": 0,
      "outputs": []
    },
    {
      "cell_type": "code",
      "metadata": {
        "id": "xd4WliqFEutZ",
        "colab_type": "code",
        "outputId": "f5c862d0-ef44-4397-cfba-798505fbffb8",
        "colab": {
          "base_uri": "https://localhost:8080/",
          "height": 68
        }
      },
      "source": [
        "# read in and split text file into list of lines\n",
        "lines = urlopen(url).readlines() # adapt for your specific needs >> readline? readlines? read?\n",
        "\n",
        "# let's see what we've got...\n",
        "for line in lines:\n",
        "    print(line.decode().strip())"
      ],
      "execution_count": 0,
      "outputs": [
        {
          "output_type": "stream",
          "text": [
            "ecoo\n",
            "impala\n",
            "anagram\n"
          ],
          "name": "stdout"
        }
      ]
    },
    {
      "cell_type": "markdown",
      "metadata": {
        "id": "t069py2lFC0c",
        "colab_type": "text"
      },
      "source": [
        "The original of this Jupyter Notebook is stored [here](http://bit.ly/2HJgIAZ) on Colaboratory."
      ]
    }
  ]
}